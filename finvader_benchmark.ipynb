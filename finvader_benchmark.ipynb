{
 "cells": [
  {
   "cell_type": "code",
   "execution_count": 23,
   "outputs": [],
   "source": [
    "import pandas as pd\n",
    "from finvader import finvader\n",
    "data = pd.read_csv('testing_data.csv',index_col=None)"
   ],
   "metadata": {
    "collapsed": false,
    "ExecuteTime": {
     "start_time": "2023-05-28T14:47:35.626443Z",
     "end_time": "2023-05-28T14:47:35.676192Z"
    }
   }
  },
  {
   "cell_type": "code",
   "execution_count": 24,
   "outputs": [],
   "source": [
    "# use the classifier\n",
    "import numpy as np\n",
    "data['finvader'] = data.text.apply(finvader,use_sentibignomics = True, use_henry = True, indicator=\"compound\")"
   ],
   "metadata": {
    "collapsed": false,
    "ExecuteTime": {
     "start_time": "2023-05-28T14:47:35.672193Z",
     "end_time": "2023-05-28T14:48:05.446195Z"
    }
   }
  },
  {
   "cell_type": "code",
   "execution_count": 25,
   "outputs": [],
   "source": [
    "# discretize compound indicator into 3 scores\n",
    "conditions = [\n",
    "    (data['finvader'] > 0.33),\n",
    "    (data['finvader']> - 0.33) & (data['finvader'] < 0.33),\n",
    "    (data['finvader'] < - 0.33)\n",
    "]\n",
    "values = [1, 0, -1]\n",
    "data['finvader'] = np.select(conditions, values)"
   ],
   "metadata": {
    "collapsed": false,
    "ExecuteTime": {
     "start_time": "2023-05-28T14:48:05.446195Z",
     "end_time": "2023-05-28T14:48:05.462755Z"
    }
   }
  },
  {
   "cell_type": "code",
   "execution_count": 26,
   "outputs": [],
   "source": [
    "# calculate true positives (TP), true negatives (TN), false positives (FP) and false negatives (FN)\n",
    "data['finvader_correct'] = np.where((data['label'] == data['finvader']), 1, 0)\n",
    "data['finvader_TP'] = np.where((data['label'] == 1) & (data['finvader'] == 1), 1, 0)\n",
    "data['finvader_TN'] = np.where((data['label'] == -1) & (data['finvader'] == -1), 1, 0)\n",
    "data['finvader_FP'] = np.where((data['label'] != 1) & (data['finvader'] == 1), 1, 0)\n",
    "data['finvader_FN'] = np.where((data['label'] != -1) & (data['finvader'] == -1), 1, 0)"
   ],
   "metadata": {
    "collapsed": false,
    "ExecuteTime": {
     "start_time": "2023-05-28T14:48:05.461755Z",
     "end_time": "2023-05-28T14:48:05.476569Z"
    }
   }
  },
  {
   "cell_type": "code",
   "execution_count": 27,
   "outputs": [
    {
     "name": "stdout",
     "output_type": "stream",
     "text": [
      "FinVADER accuracy is: 69.36 %\n",
      "FinVADER precision is: 60.57 %\n",
      "FinVADER recall is: 85.45 %\n",
      "FinVADER F1 score is: 70.88 %\n"
     ]
    }
   ],
   "source": [
    "# print accuracy, precision, recall, F1 score\n",
    "print(\"FinVADER accuracy is:\",  round((((data['finvader_correct'].sum()) / len(data))) * 100, 2), \"%\")\n",
    "print(\"FinVADER precision is:\",  round((( data['finvader_TP'].sum() / ((data['finvader_TP'].sum() + data['finvader_FP'].sum())))) * 100, 2), \"%\")\n",
    "print(\"FinVADER recall is:\",  round((( data['finvader_TP'].sum() / ((data['finvader_TP'].sum() + data['finvader_FN'].sum())))) * 100, 2), \"%\")\n",
    "print(\"FinVADER F1 score is:\",  2 * round(\n",
    "    (((data['finvader_TP'].sum() / ((data['finvader_TP'].sum() + data['finvader_FP'].sum()))) *\n",
    "      (((data['finvader_TP'].sum() / ((data['finvader_TP'].sum() + data['finvader_FN'].sum())))))) /\n",
    "     (((data['finvader_TP'].sum() / ((data['finvader_TP'].sum() + data['finvader_FP'].sum()))) +\n",
    "       (((data['finvader_TP'].sum() / ((data['finvader_TP'].sum() + data['finvader_FN'].sum())))))))\n",
    "     )* 100, 2), \"%\")"
   ],
   "metadata": {
    "collapsed": false,
    "ExecuteTime": {
     "start_time": "2023-05-28T14:48:05.475564Z",
     "end_time": "2023-05-28T14:48:05.491035Z"
    }
   }
  },
  {
   "cell_type": "code",
   "execution_count": 28,
   "outputs": [],
   "source": [
    "# baseline VADER\n",
    "# discretize compound indicator into 3 scores\n",
    "from nltk.sentiment.vader import SentimentIntensityAnalyzer\n",
    "baseline = SentimentIntensityAnalyzer()\n",
    "\n",
    "def sentiment_vader(sentence):\n",
    "\n",
    "    sentiment_dict = baseline.polarity_scores(sentence)\n",
    "\n",
    "    compound = sentiment_dict['compound']\n",
    "\n",
    "    if sentiment_dict['compound'] > 0.33 :\n",
    "        overall_sentiment = 1\n",
    "\n",
    "    elif sentiment_dict['compound'] < - 0.33 :\n",
    "        overall_sentiment = - 1\n",
    "\n",
    "    else :\n",
    "        overall_sentiment = 0\n",
    "\n",
    "    return overall_sentiment"
   ],
   "metadata": {
    "collapsed": false,
    "ExecuteTime": {
     "start_time": "2023-05-28T14:48:05.493036Z",
     "end_time": "2023-05-28T14:48:05.534466Z"
    }
   }
  },
  {
   "cell_type": "code",
   "execution_count": 29,
   "outputs": [],
   "source": [
    "# use the classifier\n",
    "data['vader'] = data.text.apply(sentiment_vader)"
   ],
   "metadata": {
    "collapsed": false,
    "ExecuteTime": {
     "start_time": "2023-05-28T14:48:05.535364Z",
     "end_time": "2023-05-28T14:48:06.205572Z"
    }
   }
  },
  {
   "cell_type": "code",
   "execution_count": 31,
   "outputs": [],
   "source": [
    "# calculate true positives (TP), true negatives (TN), false positives (FP) and false negatives (FN)\n",
    "data['vader_correct'] = np.where((data['label'] == data['vader']), 1, 0)\n",
    "data['vader_TP'] = np.where((data['label'] == 1) & (data['vader'] == 1), 1, 0)\n",
    "data['vader_TN'] = np.where((data['label'] == -1) & (data['vader'] == -1), 1, 0)\n",
    "data['vader_FP'] = np.where((data['label'] != 1) & (data['vader'] == 1), 1, 0)\n",
    "data['vader_FN'] = np.where((data['label'] != -1) & (data['vader'] == -1), 1, 0)"
   ],
   "metadata": {
    "collapsed": false,
    "ExecuteTime": {
     "start_time": "2023-05-28T14:48:06.222382Z",
     "end_time": "2023-05-28T14:48:06.250866Z"
    }
   }
  },
  {
   "cell_type": "code",
   "execution_count": 32,
   "outputs": [
    {
     "name": "stdout",
     "output_type": "stream",
     "text": [
      "VADER accuracy is: 58.75 %\n",
      "VADER precision is: 44.41 %\n",
      "VADER recall is: 88.28 %\n",
      "VADER F1 score is: 59.1 %\n"
     ]
    }
   ],
   "source": [
    "# print accuracy, precision, recall, F1 score\n",
    "print(\"VADER accuracy is:\",  round((((data['vader_correct'].sum()) / len(data))) * 100, 2), \"%\")\n",
    "print(\"VADER precision is:\",  round((( data['vader_TP'].sum() / ((data['vader_TP'].sum() + data['vader_FP'].sum())))) * 100, 2), \"%\")\n",
    "print(\"VADER recall is:\",  round((( data['vader_TP'].sum() / ((data['vader_TP'].sum() + data['vader_FN'].sum())))) * 100, 2), \"%\")\n",
    "print(\"VADER F1 score is:\",  2 * round(\n",
    "    (((data['vader_TP'].sum() / ((data['vader_TP'].sum() + data['vader_FP'].sum()))) *\n",
    "      (((data['vader_TP'].sum() / ((data['vader_TP'].sum() + data['vader_FN'].sum())))))) /\n",
    "     (((data['vader_TP'].sum() / ((data['vader_TP'].sum() + data['vader_FP'].sum()))) +\n",
    "       (((data['vader_TP'].sum() / ((data['vader_TP'].sum() + data['vader_FN'].sum())))))))\n",
    "     )* 100, 2), \"%\")"
   ],
   "metadata": {
    "collapsed": false,
    "ExecuteTime": {
     "start_time": "2023-05-28T14:48:06.236586Z",
     "end_time": "2023-05-28T14:48:06.257558Z"
    }
   }
  }
 ],
 "metadata": {
  "kernelspec": {
   "display_name": "Python 3",
   "language": "python",
   "name": "python3"
  },
  "language_info": {
   "codemirror_mode": {
    "name": "ipython",
    "version": 2
   },
   "file_extension": ".py",
   "mimetype": "text/x-python",
   "name": "python",
   "nbconvert_exporter": "python",
   "pygments_lexer": "ipython2",
   "version": "2.7.6"
  }
 },
 "nbformat": 4,
 "nbformat_minor": 0
}
